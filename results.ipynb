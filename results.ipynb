{
 "cells": [
  {
   "cell_type": "code",
   "execution_count": null,
   "metadata": {},
   "outputs": [],
   "source": [
    "import numpy as np\n",
    "import pandas as pd\n",
    "import plotly.graph_objects as go\n",
    "import plotly.express as px\n",
    "\n",
    "colorscheme = px.colors.sequential.Viridis[::3]\n",
    "symbols = ['circle', 'square', 'x', 'diamond', 'triangle-up']\n",
    "\n",
    "df = pd.read_csv('results.csv')\n",
    "df = df[df['trial name'] == 'house720-grey-h1-3iter-data']\n",
    "df\n",
    "\n",
    "# estimated service time\n",
    "estimated_service_time = 8629 #720"
   ]
  },
  {
   "cell_type": "code",
   "execution_count": null,
   "metadata": {},
   "outputs": [],
   "source": [
    "mean = df.groupby([\"type\", \"threads\"]).mean().reset_index().sort_values(by=[\"type\", \"threads\"])\n",
    "std = df.groupby([\"type\", \"threads\"]).std().reset_index().sort_values(by=[\"type\", \"threads\"])\n",
    "\n",
    "means = {name:d for name, d in mean.groupby([\"type\"])}\n",
    "std = {name:d for name, d in std.groupby([\"type\"])}\n",
    "types = means.keys()\n",
    "threads = pd.unique(mean[\"threads\"]).tolist()\n",
    "\n",
    "def get_fig(y, title, xtitle, ytitle, log_x=True, log_y=True):\n",
    "    types = means.keys()\n",
    "    threads = pd.unique(mean[\"threads\"]).tolist()\n",
    "    items = means[\"seq\"][\"items\"]\n",
    "\n",
    "    fig = go.Figure()\n",
    "\n",
    "    for type in types:\n",
    "        if type == \"seq\":\n",
    "            continue\n",
    "        fig.add_trace(go.Scatter(x=threads, y=means[type][y], name=type, error_y=dict(type=\"data\", array=std[type][y])))\n",
    "\n",
    "     # Add ideal metric\n",
    "    if y == \"completion time\":\n",
    "        seq_completion_time = means[\"seq\"][\"completion time\"].iloc[0]\n",
    "        ideal_completion_time = [seq_completion_time / thread for thread in threads]\n",
    "        fig.add_trace(go.Scatter(x=threads, y=ideal_completion_time, name=\"ideal\", line=dict(dash=\"dash\")))\n",
    "\n",
    "        estimated = [estimated_service_time * items / thread for thread in threads]\n",
    "        fig.add_trace(go.Scatter(x=threads, y=estimated, name=\"lower bound\", line=dict(dash=\"dash\")))\n",
    "    elif y == \"service time\":\n",
    "        seq_service_time = means[\"seq\"][\"service time\"].iloc[0]\n",
    "        ideal_service_time = [seq_service_time / thread for thread in threads]\n",
    "        fig.add_trace(go.Scatter(x=threads, y=ideal_service_time, name=\"ideal\", line=dict(dash=\"dash\")))\n",
    "\n",
    "        estimated = [estimated_service_time / thread for thread in threads]\n",
    "        fig.add_trace(go.Scatter(x=threads, y=estimated, name=\"lower bound\", line=dict(dash=\"dash\")))\n",
    "    elif y == \"efficiency\":\n",
    "        ones = pd.Series(np.ones(len(threads)))\n",
    "        fig.add_trace(go.Scatter(x=threads, y=ones, name=\"ideal\", line=dict(dash=\"dash\")))\n",
    "    else:\n",
    "        fig.add_trace(go.Scatter(x=threads, y=threads, name=\"ideal\", line=dict(dash=\"dash\")))\n",
    "\n",
    "    for i, trace in enumerate(fig.data):\n",
    "        # use different symbol and color for each trace\n",
    "        trace.marker.symbol = symbols[i]\n",
    "        trace.line.color = colorscheme[i]\n",
    "        # trace.line.color = \"black\"\n",
    "\n",
    "    fig.update_layout(\n",
    "        title=title,\n",
    "        xaxis_title=xtitle,\n",
    "        yaxis_title=ytitle,\n",
    "        xaxis = dict(\n",
    "            tickmode = 'array',\n",
    "            tickvals = threads,\n",
    "        ),\n",
    "    )\n",
    "\n",
    "    if log_x:\n",
    "        fig.update_xaxes(type=\"log\")\n",
    "\n",
    "    if log_y:\n",
    "        fig.update_yaxes(type=\"log\")\n",
    "\n",
    "    return fig"
   ]
  },
  {
   "cell_type": "code",
   "execution_count": null,
   "metadata": {},
   "outputs": [],
   "source": [
    "get_fig(y=\"speedup\", title=\"Speedup vs. Number of threads\", xtitle=\"# Threads\", ytitle=\"Speedup\")"
   ]
  },
  {
   "cell_type": "code",
   "execution_count": null,
   "metadata": {},
   "outputs": [],
   "source": [
    "get_fig(y=\"completion time\", title=\"Completion time vs Number of threads\", xtitle=\"# Threads\", ytitle=\"Time (µs)\")"
   ]
  },
  {
   "cell_type": "code",
   "execution_count": null,
   "metadata": {},
   "outputs": [],
   "source": [
    "get_fig(y=\"service time\", title=\"Service time vs Number of threads\", xtitle=\"# Threads\", ytitle=\"Time (µs)\")"
   ]
  },
  {
   "cell_type": "code",
   "execution_count": null,
   "metadata": {},
   "outputs": [],
   "source": [
    "get_fig(y=\"scalability\", title=\"Scalability vs. Number of threads\", xtitle=\"# Threads\", ytitle=\"Scalability\")"
   ]
  },
  {
   "cell_type": "code",
   "execution_count": null,
   "metadata": {},
   "outputs": [],
   "source": [
    "get_fig(y=\"efficiency\", title=\"Efficiency vs. Number of threads\", xtitle=\"# Threads\", ytitle=\"Efficiency\")"
   ]
  }
 ],
 "metadata": {
  "interpreter": {
   "hash": "72e57dc3dad5fe81ea9c8b88656e5a9681a3c8cfe182a47c201592651a720938"
  },
  "kernelspec": {
   "display_name": "Python 3.9.12 ('.venv': venv)",
   "language": "python",
   "name": "python3"
  },
  "language_info": {
   "codemirror_mode": {
    "name": "ipython",
    "version": 3
   },
   "file_extension": ".py",
   "mimetype": "text/x-python",
   "name": "python",
   "nbconvert_exporter": "python",
   "pygments_lexer": "ipython3",
   "version": "3.9.12"
  },
  "orig_nbformat": 4
 },
 "nbformat": 4,
 "nbformat_minor": 2
}
