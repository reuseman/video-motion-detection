{
 "cells": [
  {
   "cell_type": "code",
   "execution_count": 26,
   "metadata": {},
   "outputs": [],
   "source": [
    "import numpy as np\n",
    "import pandas as pd\n",
    "import plotly as px"
   ]
  },
  {
   "cell_type": "code",
   "execution_count": 9,
   "metadata": {},
   "outputs": [],
   "source": [
    "df = pd.read_csv('results.csv')"
   ]
  },
  {
   "cell_type": "code",
   "execution_count": 10,
   "metadata": {},
   "outputs": [
    {
     "data": {
      "text/html": [
       "<div>\n",
       "<style scoped>\n",
       "    .dataframe tbody tr th:only-of-type {\n",
       "        vertical-align: middle;\n",
       "    }\n",
       "\n",
       "    .dataframe tbody tr th {\n",
       "        vertical-align: top;\n",
       "    }\n",
       "\n",
       "    .dataframe thead th {\n",
       "        text-align: right;\n",
       "    }\n",
       "</style>\n",
       "<table border=\"1\" class=\"dataframe\">\n",
       "  <thead>\n",
       "    <tr style=\"text-align: right;\">\n",
       "      <th></th>\n",
       "      <th>trial name</th>\n",
       "      <th>id</th>\n",
       "      <th>type</th>\n",
       "      <th>cores</th>\n",
       "      <th>completion time</th>\n",
       "      <th>bandwidth</th>\n",
       "      <th>speedup</th>\n",
       "      <th>scalability</th>\n",
       "      <th>efficiency</th>\n",
       "    </tr>\n",
       "  </thead>\n",
       "  <tbody>\n",
       "    <tr>\n",
       "      <th>0</th>\n",
       "      <td>MAC-VIDEO_DOOR-PTHREAD-BOX_BLUR-ITER10</td>\n",
       "      <td>1</td>\n",
       "      <td>seq</td>\n",
       "      <td>1</td>\n",
       "      <td>12115484</td>\n",
       "      <td>1.0</td>\n",
       "      <td>1.00</td>\n",
       "      <td>1.00</td>\n",
       "      <td>1.00</td>\n",
       "    </tr>\n",
       "    <tr>\n",
       "      <th>1</th>\n",
       "      <td>MAC-VIDEO_DOOR-PTHREAD-BOX_BLUR-ITER10</td>\n",
       "      <td>1</td>\n",
       "      <td>par</td>\n",
       "      <td>1</td>\n",
       "      <td>9495499</td>\n",
       "      <td>0.0</td>\n",
       "      <td>1.28</td>\n",
       "      <td>1.00</td>\n",
       "      <td>1.28</td>\n",
       "    </tr>\n",
       "    <tr>\n",
       "      <th>2</th>\n",
       "      <td>MAC-VIDEO_DOOR-PTHREAD-BOX_BLUR-ITER10</td>\n",
       "      <td>1</td>\n",
       "      <td>par</td>\n",
       "      <td>2</td>\n",
       "      <td>5178922</td>\n",
       "      <td>0.0</td>\n",
       "      <td>2.34</td>\n",
       "      <td>1.83</td>\n",
       "      <td>1.17</td>\n",
       "    </tr>\n",
       "    <tr>\n",
       "      <th>3</th>\n",
       "      <td>MAC-VIDEO_DOOR-PTHREAD-BOX_BLUR-ITER10</td>\n",
       "      <td>1</td>\n",
       "      <td>par</td>\n",
       "      <td>4</td>\n",
       "      <td>3309741</td>\n",
       "      <td>0.0</td>\n",
       "      <td>3.66</td>\n",
       "      <td>2.87</td>\n",
       "      <td>0.92</td>\n",
       "    </tr>\n",
       "    <tr>\n",
       "      <th>4</th>\n",
       "      <td>MAC-VIDEO_DOOR-PTHREAD-BOX_BLUR-ITER10</td>\n",
       "      <td>1</td>\n",
       "      <td>par</td>\n",
       "      <td>8</td>\n",
       "      <td>3074015</td>\n",
       "      <td>0.0</td>\n",
       "      <td>3.94</td>\n",
       "      <td>3.09</td>\n",
       "      <td>0.49</td>\n",
       "    </tr>\n",
       "    <tr>\n",
       "      <th>5</th>\n",
       "      <td>MAC-VIDEO_DOOR-PTHREAD-BOX_BLUR-ITER10</td>\n",
       "      <td>2</td>\n",
       "      <td>seq</td>\n",
       "      <td>1</td>\n",
       "      <td>12377372</td>\n",
       "      <td>1.0</td>\n",
       "      <td>1.00</td>\n",
       "      <td>1.00</td>\n",
       "      <td>1.00</td>\n",
       "    </tr>\n",
       "    <tr>\n",
       "      <th>6</th>\n",
       "      <td>MAC-VIDEO_DOOR-PTHREAD-BOX_BLUR-ITER10</td>\n",
       "      <td>2</td>\n",
       "      <td>par</td>\n",
       "      <td>1</td>\n",
       "      <td>9759343</td>\n",
       "      <td>0.0</td>\n",
       "      <td>1.27</td>\n",
       "      <td>1.00</td>\n",
       "      <td>1.27</td>\n",
       "    </tr>\n",
       "    <tr>\n",
       "      <th>7</th>\n",
       "      <td>MAC-VIDEO_DOOR-PTHREAD-BOX_BLUR-ITER10</td>\n",
       "      <td>2</td>\n",
       "      <td>par</td>\n",
       "      <td>2</td>\n",
       "      <td>5173791</td>\n",
       "      <td>0.0</td>\n",
       "      <td>2.39</td>\n",
       "      <td>1.89</td>\n",
       "      <td>1.20</td>\n",
       "    </tr>\n",
       "    <tr>\n",
       "      <th>8</th>\n",
       "      <td>MAC-VIDEO_DOOR-PTHREAD-BOX_BLUR-ITER10</td>\n",
       "      <td>2</td>\n",
       "      <td>par</td>\n",
       "      <td>4</td>\n",
       "      <td>3137524</td>\n",
       "      <td>0.0</td>\n",
       "      <td>3.94</td>\n",
       "      <td>3.12</td>\n",
       "      <td>0.99</td>\n",
       "    </tr>\n",
       "    <tr>\n",
       "      <th>9</th>\n",
       "      <td>MAC-VIDEO_DOOR-PTHREAD-BOX_BLUR-ITER10</td>\n",
       "      <td>2</td>\n",
       "      <td>par</td>\n",
       "      <td>8</td>\n",
       "      <td>2980033</td>\n",
       "      <td>0.0</td>\n",
       "      <td>4.15</td>\n",
       "      <td>3.28</td>\n",
       "      <td>0.52</td>\n",
       "    </tr>\n",
       "    <tr>\n",
       "      <th>10</th>\n",
       "      <td>MAC-VIDEO_DOOR-PTHREAD-BOX_BLUR-ITER10</td>\n",
       "      <td>3</td>\n",
       "      <td>seq</td>\n",
       "      <td>1</td>\n",
       "      <td>12309695</td>\n",
       "      <td>1.0</td>\n",
       "      <td>1.00</td>\n",
       "      <td>1.00</td>\n",
       "      <td>1.00</td>\n",
       "    </tr>\n",
       "    <tr>\n",
       "      <th>11</th>\n",
       "      <td>MAC-VIDEO_DOOR-PTHREAD-BOX_BLUR-ITER10</td>\n",
       "      <td>3</td>\n",
       "      <td>par</td>\n",
       "      <td>1</td>\n",
       "      <td>9939802</td>\n",
       "      <td>0.0</td>\n",
       "      <td>1.24</td>\n",
       "      <td>0.98</td>\n",
       "      <td>1.24</td>\n",
       "    </tr>\n",
       "    <tr>\n",
       "      <th>12</th>\n",
       "      <td>MAC-VIDEO_DOOR-PTHREAD-BOX_BLUR-ITER10</td>\n",
       "      <td>3</td>\n",
       "      <td>par</td>\n",
       "      <td>2</td>\n",
       "      <td>5142236</td>\n",
       "      <td>0.0</td>\n",
       "      <td>2.39</td>\n",
       "      <td>1.90</td>\n",
       "      <td>1.20</td>\n",
       "    </tr>\n",
       "    <tr>\n",
       "      <th>13</th>\n",
       "      <td>MAC-VIDEO_DOOR-PTHREAD-BOX_BLUR-ITER10</td>\n",
       "      <td>3</td>\n",
       "      <td>par</td>\n",
       "      <td>4</td>\n",
       "      <td>3168354</td>\n",
       "      <td>0.0</td>\n",
       "      <td>3.89</td>\n",
       "      <td>3.08</td>\n",
       "      <td>0.97</td>\n",
       "    </tr>\n",
       "    <tr>\n",
       "      <th>14</th>\n",
       "      <td>MAC-VIDEO_DOOR-PTHREAD-BOX_BLUR-ITER10</td>\n",
       "      <td>3</td>\n",
       "      <td>par</td>\n",
       "      <td>8</td>\n",
       "      <td>3016321</td>\n",
       "      <td>0.0</td>\n",
       "      <td>4.08</td>\n",
       "      <td>3.23</td>\n",
       "      <td>0.51</td>\n",
       "    </tr>\n",
       "    <tr>\n",
       "      <th>15</th>\n",
       "      <td>MAC-VIDEO_DOOR-PTHREAD-BOX_BLUR-ITER10</td>\n",
       "      <td>4</td>\n",
       "      <td>seq</td>\n",
       "      <td>1</td>\n",
       "      <td>12296239</td>\n",
       "      <td>1.0</td>\n",
       "      <td>1.00</td>\n",
       "      <td>1.00</td>\n",
       "      <td>1.00</td>\n",
       "    </tr>\n",
       "    <tr>\n",
       "      <th>16</th>\n",
       "      <td>MAC-VIDEO_DOOR-PTHREAD-BOX_BLUR-ITER10</td>\n",
       "      <td>4</td>\n",
       "      <td>par</td>\n",
       "      <td>1</td>\n",
       "      <td>9658575</td>\n",
       "      <td>0.0</td>\n",
       "      <td>1.27</td>\n",
       "      <td>1.01</td>\n",
       "      <td>1.27</td>\n",
       "    </tr>\n",
       "    <tr>\n",
       "      <th>17</th>\n",
       "      <td>MAC-VIDEO_DOOR-PTHREAD-BOX_BLUR-ITER10</td>\n",
       "      <td>4</td>\n",
       "      <td>par</td>\n",
       "      <td>2</td>\n",
       "      <td>5153167</td>\n",
       "      <td>0.0</td>\n",
       "      <td>2.39</td>\n",
       "      <td>1.89</td>\n",
       "      <td>1.19</td>\n",
       "    </tr>\n",
       "    <tr>\n",
       "      <th>18</th>\n",
       "      <td>MAC-VIDEO_DOOR-PTHREAD-BOX_BLUR-ITER10</td>\n",
       "      <td>4</td>\n",
       "      <td>par</td>\n",
       "      <td>4</td>\n",
       "      <td>3134044</td>\n",
       "      <td>0.0</td>\n",
       "      <td>3.92</td>\n",
       "      <td>3.10</td>\n",
       "      <td>0.98</td>\n",
       "    </tr>\n",
       "    <tr>\n",
       "      <th>19</th>\n",
       "      <td>MAC-VIDEO_DOOR-PTHREAD-BOX_BLUR-ITER10</td>\n",
       "      <td>4</td>\n",
       "      <td>par</td>\n",
       "      <td>8</td>\n",
       "      <td>2983290</td>\n",
       "      <td>0.0</td>\n",
       "      <td>4.12</td>\n",
       "      <td>3.26</td>\n",
       "      <td>0.52</td>\n",
       "    </tr>\n",
       "    <tr>\n",
       "      <th>20</th>\n",
       "      <td>MAC-VIDEO_DOOR-PTHREAD-BOX_BLUR-ITER10</td>\n",
       "      <td>5</td>\n",
       "      <td>seq</td>\n",
       "      <td>1</td>\n",
       "      <td>12470667</td>\n",
       "      <td>1.0</td>\n",
       "      <td>1.00</td>\n",
       "      <td>1.00</td>\n",
       "      <td>1.00</td>\n",
       "    </tr>\n",
       "    <tr>\n",
       "      <th>21</th>\n",
       "      <td>MAC-VIDEO_DOOR-PTHREAD-BOX_BLUR-ITER10</td>\n",
       "      <td>5</td>\n",
       "      <td>par</td>\n",
       "      <td>1</td>\n",
       "      <td>9692550</td>\n",
       "      <td>0.0</td>\n",
       "      <td>1.29</td>\n",
       "      <td>2.34</td>\n",
       "      <td>1.29</td>\n",
       "    </tr>\n",
       "    <tr>\n",
       "      <th>22</th>\n",
       "      <td>MAC-VIDEO_DOOR-PTHREAD-BOX_BLUR-ITER10</td>\n",
       "      <td>5</td>\n",
       "      <td>par</td>\n",
       "      <td>2</td>\n",
       "      <td>5082533</td>\n",
       "      <td>0.0</td>\n",
       "      <td>2.45</td>\n",
       "      <td>4.46</td>\n",
       "      <td>1.23</td>\n",
       "    </tr>\n",
       "    <tr>\n",
       "      <th>23</th>\n",
       "      <td>MAC-VIDEO_DOOR-PTHREAD-BOX_BLUR-ITER10</td>\n",
       "      <td>5</td>\n",
       "      <td>par</td>\n",
       "      <td>4</td>\n",
       "      <td>3097694</td>\n",
       "      <td>0.0</td>\n",
       "      <td>4.03</td>\n",
       "      <td>7.32</td>\n",
       "      <td>1.01</td>\n",
       "    </tr>\n",
       "    <tr>\n",
       "      <th>24</th>\n",
       "      <td>MAC-VIDEO_DOOR-PTHREAD-BOX_BLUR-ITER10</td>\n",
       "      <td>5</td>\n",
       "      <td>par</td>\n",
       "      <td>8</td>\n",
       "      <td>2956188</td>\n",
       "      <td>0.0</td>\n",
       "      <td>4.22</td>\n",
       "      <td>7.67</td>\n",
       "      <td>0.53</td>\n",
       "    </tr>\n",
       "    <tr>\n",
       "      <th>25</th>\n",
       "      <td>MAC-VIDEO_DOOR-PTHREAD-BOX_BLUR-ITER10</td>\n",
       "      <td>6</td>\n",
       "      <td>seq</td>\n",
       "      <td>1</td>\n",
       "      <td>12311523</td>\n",
       "      <td>1.0</td>\n",
       "      <td>1.00</td>\n",
       "      <td>1.00</td>\n",
       "      <td>1.00</td>\n",
       "    </tr>\n",
       "    <tr>\n",
       "      <th>26</th>\n",
       "      <td>MAC-VIDEO_DOOR-PTHREAD-BOX_BLUR-ITER10</td>\n",
       "      <td>6</td>\n",
       "      <td>par</td>\n",
       "      <td>1</td>\n",
       "      <td>9593456</td>\n",
       "      <td>0.0</td>\n",
       "      <td>1.28</td>\n",
       "      <td>1.00</td>\n",
       "      <td>1.28</td>\n",
       "    </tr>\n",
       "    <tr>\n",
       "      <th>27</th>\n",
       "      <td>MAC-VIDEO_DOOR-PTHREAD-BOX_BLUR-ITER10</td>\n",
       "      <td>6</td>\n",
       "      <td>par</td>\n",
       "      <td>2</td>\n",
       "      <td>5088302</td>\n",
       "      <td>0.0</td>\n",
       "      <td>2.42</td>\n",
       "      <td>1.89</td>\n",
       "      <td>1.21</td>\n",
       "    </tr>\n",
       "    <tr>\n",
       "      <th>28</th>\n",
       "      <td>MAC-VIDEO_DOOR-PTHREAD-BOX_BLUR-ITER10</td>\n",
       "      <td>6</td>\n",
       "      <td>par</td>\n",
       "      <td>4</td>\n",
       "      <td>3099172</td>\n",
       "      <td>0.0</td>\n",
       "      <td>3.97</td>\n",
       "      <td>3.10</td>\n",
       "      <td>0.99</td>\n",
       "    </tr>\n",
       "    <tr>\n",
       "      <th>29</th>\n",
       "      <td>MAC-VIDEO_DOOR-PTHREAD-BOX_BLUR-ITER10</td>\n",
       "      <td>6</td>\n",
       "      <td>par</td>\n",
       "      <td>8</td>\n",
       "      <td>2975133</td>\n",
       "      <td>0.0</td>\n",
       "      <td>4.14</td>\n",
       "      <td>3.23</td>\n",
       "      <td>0.52</td>\n",
       "    </tr>\n",
       "    <tr>\n",
       "      <th>30</th>\n",
       "      <td>MAC-VIDEO_DOOR-PTHREAD-BOX_BLUR-ITER10</td>\n",
       "      <td>7</td>\n",
       "      <td>seq</td>\n",
       "      <td>1</td>\n",
       "      <td>12203563</td>\n",
       "      <td>1.0</td>\n",
       "      <td>1.00</td>\n",
       "      <td>1.00</td>\n",
       "      <td>1.00</td>\n",
       "    </tr>\n",
       "    <tr>\n",
       "      <th>31</th>\n",
       "      <td>MAC-VIDEO_DOOR-PTHREAD-BOX_BLUR-ITER10</td>\n",
       "      <td>7</td>\n",
       "      <td>par</td>\n",
       "      <td>1</td>\n",
       "      <td>9692869</td>\n",
       "      <td>0.0</td>\n",
       "      <td>1.26</td>\n",
       "      <td>1.00</td>\n",
       "      <td>1.26</td>\n",
       "    </tr>\n",
       "    <tr>\n",
       "      <th>32</th>\n",
       "      <td>MAC-VIDEO_DOOR-PTHREAD-BOX_BLUR-ITER10</td>\n",
       "      <td>7</td>\n",
       "      <td>par</td>\n",
       "      <td>2</td>\n",
       "      <td>5134267</td>\n",
       "      <td>0.0</td>\n",
       "      <td>2.38</td>\n",
       "      <td>1.89</td>\n",
       "      <td>1.19</td>\n",
       "    </tr>\n",
       "    <tr>\n",
       "      <th>33</th>\n",
       "      <td>MAC-VIDEO_DOOR-PTHREAD-BOX_BLUR-ITER10</td>\n",
       "      <td>7</td>\n",
       "      <td>par</td>\n",
       "      <td>4</td>\n",
       "      <td>3131035</td>\n",
       "      <td>0.0</td>\n",
       "      <td>3.90</td>\n",
       "      <td>3.10</td>\n",
       "      <td>0.97</td>\n",
       "    </tr>\n",
       "    <tr>\n",
       "      <th>34</th>\n",
       "      <td>MAC-VIDEO_DOOR-PTHREAD-BOX_BLUR-ITER10</td>\n",
       "      <td>7</td>\n",
       "      <td>par</td>\n",
       "      <td>8</td>\n",
       "      <td>2982621</td>\n",
       "      <td>0.0</td>\n",
       "      <td>4.09</td>\n",
       "      <td>3.25</td>\n",
       "      <td>0.51</td>\n",
       "    </tr>\n",
       "    <tr>\n",
       "      <th>35</th>\n",
       "      <td>MAC-VIDEO_DOOR-PTHREAD-BOX_BLUR-ITER10</td>\n",
       "      <td>8</td>\n",
       "      <td>seq</td>\n",
       "      <td>1</td>\n",
       "      <td>12278427</td>\n",
       "      <td>1.0</td>\n",
       "      <td>1.00</td>\n",
       "      <td>1.00</td>\n",
       "      <td>1.00</td>\n",
       "    </tr>\n",
       "    <tr>\n",
       "      <th>36</th>\n",
       "      <td>MAC-VIDEO_DOOR-PTHREAD-BOX_BLUR-ITER10</td>\n",
       "      <td>8</td>\n",
       "      <td>par</td>\n",
       "      <td>1</td>\n",
       "      <td>9670529</td>\n",
       "      <td>0.0</td>\n",
       "      <td>1.27</td>\n",
       "      <td>1.00</td>\n",
       "      <td>1.27</td>\n",
       "    </tr>\n",
       "    <tr>\n",
       "      <th>37</th>\n",
       "      <td>MAC-VIDEO_DOOR-PTHREAD-BOX_BLUR-ITER10</td>\n",
       "      <td>8</td>\n",
       "      <td>par</td>\n",
       "      <td>2</td>\n",
       "      <td>5128565</td>\n",
       "      <td>0.0</td>\n",
       "      <td>2.39</td>\n",
       "      <td>1.89</td>\n",
       "      <td>1.20</td>\n",
       "    </tr>\n",
       "    <tr>\n",
       "      <th>38</th>\n",
       "      <td>MAC-VIDEO_DOOR-PTHREAD-BOX_BLUR-ITER10</td>\n",
       "      <td>8</td>\n",
       "      <td>par</td>\n",
       "      <td>4</td>\n",
       "      <td>3130009</td>\n",
       "      <td>0.0</td>\n",
       "      <td>3.92</td>\n",
       "      <td>3.09</td>\n",
       "      <td>0.98</td>\n",
       "    </tr>\n",
       "    <tr>\n",
       "      <th>39</th>\n",
       "      <td>MAC-VIDEO_DOOR-PTHREAD-BOX_BLUR-ITER10</td>\n",
       "      <td>8</td>\n",
       "      <td>par</td>\n",
       "      <td>8</td>\n",
       "      <td>2973129</td>\n",
       "      <td>0.0</td>\n",
       "      <td>4.13</td>\n",
       "      <td>3.25</td>\n",
       "      <td>0.52</td>\n",
       "    </tr>\n",
       "    <tr>\n",
       "      <th>40</th>\n",
       "      <td>MAC-VIDEO_DOOR-PTHREAD-BOX_BLUR-ITER10</td>\n",
       "      <td>9</td>\n",
       "      <td>seq</td>\n",
       "      <td>1</td>\n",
       "      <td>12211022</td>\n",
       "      <td>1.0</td>\n",
       "      <td>1.00</td>\n",
       "      <td>1.00</td>\n",
       "      <td>1.00</td>\n",
       "    </tr>\n",
       "    <tr>\n",
       "      <th>41</th>\n",
       "      <td>MAC-VIDEO_DOOR-PTHREAD-BOX_BLUR-ITER10</td>\n",
       "      <td>9</td>\n",
       "      <td>par</td>\n",
       "      <td>1</td>\n",
       "      <td>9659669</td>\n",
       "      <td>0.0</td>\n",
       "      <td>1.26</td>\n",
       "      <td>1.00</td>\n",
       "      <td>1.26</td>\n",
       "    </tr>\n",
       "    <tr>\n",
       "      <th>42</th>\n",
       "      <td>MAC-VIDEO_DOOR-PTHREAD-BOX_BLUR-ITER10</td>\n",
       "      <td>9</td>\n",
       "      <td>par</td>\n",
       "      <td>2</td>\n",
       "      <td>5186768</td>\n",
       "      <td>0.0</td>\n",
       "      <td>2.35</td>\n",
       "      <td>1.85</td>\n",
       "      <td>1.18</td>\n",
       "    </tr>\n",
       "    <tr>\n",
       "      <th>43</th>\n",
       "      <td>MAC-VIDEO_DOOR-PTHREAD-BOX_BLUR-ITER10</td>\n",
       "      <td>9</td>\n",
       "      <td>par</td>\n",
       "      <td>4</td>\n",
       "      <td>3113817</td>\n",
       "      <td>0.0</td>\n",
       "      <td>3.92</td>\n",
       "      <td>3.09</td>\n",
       "      <td>0.98</td>\n",
       "    </tr>\n",
       "    <tr>\n",
       "      <th>44</th>\n",
       "      <td>MAC-VIDEO_DOOR-PTHREAD-BOX_BLUR-ITER10</td>\n",
       "      <td>9</td>\n",
       "      <td>par</td>\n",
       "      <td>8</td>\n",
       "      <td>2983847</td>\n",
       "      <td>0.0</td>\n",
       "      <td>4.09</td>\n",
       "      <td>3.22</td>\n",
       "      <td>0.51</td>\n",
       "    </tr>\n",
       "    <tr>\n",
       "      <th>45</th>\n",
       "      <td>MAC-VIDEO_DOOR-PTHREAD-BOX_BLUR-ITER10</td>\n",
       "      <td>10</td>\n",
       "      <td>seq</td>\n",
       "      <td>1</td>\n",
       "      <td>12257243</td>\n",
       "      <td>1.0</td>\n",
       "      <td>1.00</td>\n",
       "      <td>1.00</td>\n",
       "      <td>1.00</td>\n",
       "    </tr>\n",
       "    <tr>\n",
       "      <th>46</th>\n",
       "      <td>MAC-VIDEO_DOOR-PTHREAD-BOX_BLUR-ITER10</td>\n",
       "      <td>10</td>\n",
       "      <td>par</td>\n",
       "      <td>1</td>\n",
       "      <td>10012039</td>\n",
       "      <td>0.0</td>\n",
       "      <td>1.22</td>\n",
       "      <td>0.97</td>\n",
       "      <td>1.22</td>\n",
       "    </tr>\n",
       "    <tr>\n",
       "      <th>47</th>\n",
       "      <td>MAC-VIDEO_DOOR-PTHREAD-BOX_BLUR-ITER10</td>\n",
       "      <td>10</td>\n",
       "      <td>par</td>\n",
       "      <td>2</td>\n",
       "      <td>5465123</td>\n",
       "      <td>0.0</td>\n",
       "      <td>2.24</td>\n",
       "      <td>1.77</td>\n",
       "      <td>1.12</td>\n",
       "    </tr>\n",
       "    <tr>\n",
       "      <th>48</th>\n",
       "      <td>MAC-VIDEO_DOOR-PTHREAD-BOX_BLUR-ITER10</td>\n",
       "      <td>10</td>\n",
       "      <td>par</td>\n",
       "      <td>4</td>\n",
       "      <td>3262413</td>\n",
       "      <td>0.0</td>\n",
       "      <td>3.76</td>\n",
       "      <td>2.96</td>\n",
       "      <td>0.94</td>\n",
       "    </tr>\n",
       "    <tr>\n",
       "      <th>49</th>\n",
       "      <td>MAC-VIDEO_DOOR-PTHREAD-BOX_BLUR-ITER10</td>\n",
       "      <td>10</td>\n",
       "      <td>par</td>\n",
       "      <td>8</td>\n",
       "      <td>3198530</td>\n",
       "      <td>0.0</td>\n",
       "      <td>3.83</td>\n",
       "      <td>3.02</td>\n",
       "      <td>0.48</td>\n",
       "    </tr>\n",
       "  </tbody>\n",
       "</table>\n",
       "</div>"
      ],
      "text/plain": [
       "                                trial name  id type  cores  completion time  \\\n",
       "0   MAC-VIDEO_DOOR-PTHREAD-BOX_BLUR-ITER10   1  seq      1         12115484   \n",
       "1   MAC-VIDEO_DOOR-PTHREAD-BOX_BLUR-ITER10   1  par      1          9495499   \n",
       "2   MAC-VIDEO_DOOR-PTHREAD-BOX_BLUR-ITER10   1  par      2          5178922   \n",
       "3   MAC-VIDEO_DOOR-PTHREAD-BOX_BLUR-ITER10   1  par      4          3309741   \n",
       "4   MAC-VIDEO_DOOR-PTHREAD-BOX_BLUR-ITER10   1  par      8          3074015   \n",
       "5   MAC-VIDEO_DOOR-PTHREAD-BOX_BLUR-ITER10   2  seq      1         12377372   \n",
       "6   MAC-VIDEO_DOOR-PTHREAD-BOX_BLUR-ITER10   2  par      1          9759343   \n",
       "7   MAC-VIDEO_DOOR-PTHREAD-BOX_BLUR-ITER10   2  par      2          5173791   \n",
       "8   MAC-VIDEO_DOOR-PTHREAD-BOX_BLUR-ITER10   2  par      4          3137524   \n",
       "9   MAC-VIDEO_DOOR-PTHREAD-BOX_BLUR-ITER10   2  par      8          2980033   \n",
       "10  MAC-VIDEO_DOOR-PTHREAD-BOX_BLUR-ITER10   3  seq      1         12309695   \n",
       "11  MAC-VIDEO_DOOR-PTHREAD-BOX_BLUR-ITER10   3  par      1          9939802   \n",
       "12  MAC-VIDEO_DOOR-PTHREAD-BOX_BLUR-ITER10   3  par      2          5142236   \n",
       "13  MAC-VIDEO_DOOR-PTHREAD-BOX_BLUR-ITER10   3  par      4          3168354   \n",
       "14  MAC-VIDEO_DOOR-PTHREAD-BOX_BLUR-ITER10   3  par      8          3016321   \n",
       "15  MAC-VIDEO_DOOR-PTHREAD-BOX_BLUR-ITER10   4  seq      1         12296239   \n",
       "16  MAC-VIDEO_DOOR-PTHREAD-BOX_BLUR-ITER10   4  par      1          9658575   \n",
       "17  MAC-VIDEO_DOOR-PTHREAD-BOX_BLUR-ITER10   4  par      2          5153167   \n",
       "18  MAC-VIDEO_DOOR-PTHREAD-BOX_BLUR-ITER10   4  par      4          3134044   \n",
       "19  MAC-VIDEO_DOOR-PTHREAD-BOX_BLUR-ITER10   4  par      8          2983290   \n",
       "20  MAC-VIDEO_DOOR-PTHREAD-BOX_BLUR-ITER10   5  seq      1         12470667   \n",
       "21  MAC-VIDEO_DOOR-PTHREAD-BOX_BLUR-ITER10   5  par      1          9692550   \n",
       "22  MAC-VIDEO_DOOR-PTHREAD-BOX_BLUR-ITER10   5  par      2          5082533   \n",
       "23  MAC-VIDEO_DOOR-PTHREAD-BOX_BLUR-ITER10   5  par      4          3097694   \n",
       "24  MAC-VIDEO_DOOR-PTHREAD-BOX_BLUR-ITER10   5  par      8          2956188   \n",
       "25  MAC-VIDEO_DOOR-PTHREAD-BOX_BLUR-ITER10   6  seq      1         12311523   \n",
       "26  MAC-VIDEO_DOOR-PTHREAD-BOX_BLUR-ITER10   6  par      1          9593456   \n",
       "27  MAC-VIDEO_DOOR-PTHREAD-BOX_BLUR-ITER10   6  par      2          5088302   \n",
       "28  MAC-VIDEO_DOOR-PTHREAD-BOX_BLUR-ITER10   6  par      4          3099172   \n",
       "29  MAC-VIDEO_DOOR-PTHREAD-BOX_BLUR-ITER10   6  par      8          2975133   \n",
       "30  MAC-VIDEO_DOOR-PTHREAD-BOX_BLUR-ITER10   7  seq      1         12203563   \n",
       "31  MAC-VIDEO_DOOR-PTHREAD-BOX_BLUR-ITER10   7  par      1          9692869   \n",
       "32  MAC-VIDEO_DOOR-PTHREAD-BOX_BLUR-ITER10   7  par      2          5134267   \n",
       "33  MAC-VIDEO_DOOR-PTHREAD-BOX_BLUR-ITER10   7  par      4          3131035   \n",
       "34  MAC-VIDEO_DOOR-PTHREAD-BOX_BLUR-ITER10   7  par      8          2982621   \n",
       "35  MAC-VIDEO_DOOR-PTHREAD-BOX_BLUR-ITER10   8  seq      1         12278427   \n",
       "36  MAC-VIDEO_DOOR-PTHREAD-BOX_BLUR-ITER10   8  par      1          9670529   \n",
       "37  MAC-VIDEO_DOOR-PTHREAD-BOX_BLUR-ITER10   8  par      2          5128565   \n",
       "38  MAC-VIDEO_DOOR-PTHREAD-BOX_BLUR-ITER10   8  par      4          3130009   \n",
       "39  MAC-VIDEO_DOOR-PTHREAD-BOX_BLUR-ITER10   8  par      8          2973129   \n",
       "40  MAC-VIDEO_DOOR-PTHREAD-BOX_BLUR-ITER10   9  seq      1         12211022   \n",
       "41  MAC-VIDEO_DOOR-PTHREAD-BOX_BLUR-ITER10   9  par      1          9659669   \n",
       "42  MAC-VIDEO_DOOR-PTHREAD-BOX_BLUR-ITER10   9  par      2          5186768   \n",
       "43  MAC-VIDEO_DOOR-PTHREAD-BOX_BLUR-ITER10   9  par      4          3113817   \n",
       "44  MAC-VIDEO_DOOR-PTHREAD-BOX_BLUR-ITER10   9  par      8          2983847   \n",
       "45  MAC-VIDEO_DOOR-PTHREAD-BOX_BLUR-ITER10  10  seq      1         12257243   \n",
       "46  MAC-VIDEO_DOOR-PTHREAD-BOX_BLUR-ITER10  10  par      1         10012039   \n",
       "47  MAC-VIDEO_DOOR-PTHREAD-BOX_BLUR-ITER10  10  par      2          5465123   \n",
       "48  MAC-VIDEO_DOOR-PTHREAD-BOX_BLUR-ITER10  10  par      4          3262413   \n",
       "49  MAC-VIDEO_DOOR-PTHREAD-BOX_BLUR-ITER10  10  par      8          3198530   \n",
       "\n",
       "    bandwidth  speedup  scalability  efficiency  \n",
       "0         1.0     1.00         1.00        1.00  \n",
       "1         0.0     1.28         1.00        1.28  \n",
       "2         0.0     2.34         1.83        1.17  \n",
       "3         0.0     3.66         2.87        0.92  \n",
       "4         0.0     3.94         3.09        0.49  \n",
       "5         1.0     1.00         1.00        1.00  \n",
       "6         0.0     1.27         1.00        1.27  \n",
       "7         0.0     2.39         1.89        1.20  \n",
       "8         0.0     3.94         3.12        0.99  \n",
       "9         0.0     4.15         3.28        0.52  \n",
       "10        1.0     1.00         1.00        1.00  \n",
       "11        0.0     1.24         0.98        1.24  \n",
       "12        0.0     2.39         1.90        1.20  \n",
       "13        0.0     3.89         3.08        0.97  \n",
       "14        0.0     4.08         3.23        0.51  \n",
       "15        1.0     1.00         1.00        1.00  \n",
       "16        0.0     1.27         1.01        1.27  \n",
       "17        0.0     2.39         1.89        1.19  \n",
       "18        0.0     3.92         3.10        0.98  \n",
       "19        0.0     4.12         3.26        0.52  \n",
       "20        1.0     1.00         1.00        1.00  \n",
       "21        0.0     1.29         2.34        1.29  \n",
       "22        0.0     2.45         4.46        1.23  \n",
       "23        0.0     4.03         7.32        1.01  \n",
       "24        0.0     4.22         7.67        0.53  \n",
       "25        1.0     1.00         1.00        1.00  \n",
       "26        0.0     1.28         1.00        1.28  \n",
       "27        0.0     2.42         1.89        1.21  \n",
       "28        0.0     3.97         3.10        0.99  \n",
       "29        0.0     4.14         3.23        0.52  \n",
       "30        1.0     1.00         1.00        1.00  \n",
       "31        0.0     1.26         1.00        1.26  \n",
       "32        0.0     2.38         1.89        1.19  \n",
       "33        0.0     3.90         3.10        0.97  \n",
       "34        0.0     4.09         3.25        0.51  \n",
       "35        1.0     1.00         1.00        1.00  \n",
       "36        0.0     1.27         1.00        1.27  \n",
       "37        0.0     2.39         1.89        1.20  \n",
       "38        0.0     3.92         3.09        0.98  \n",
       "39        0.0     4.13         3.25        0.52  \n",
       "40        1.0     1.00         1.00        1.00  \n",
       "41        0.0     1.26         1.00        1.26  \n",
       "42        0.0     2.35         1.85        1.18  \n",
       "43        0.0     3.92         3.09        0.98  \n",
       "44        0.0     4.09         3.22        0.51  \n",
       "45        1.0     1.00         1.00        1.00  \n",
       "46        0.0     1.22         0.97        1.22  \n",
       "47        0.0     2.24         1.77        1.12  \n",
       "48        0.0     3.76         2.96        0.94  \n",
       "49        0.0     3.83         3.02        0.48  "
      ]
     },
     "execution_count": 10,
     "metadata": {},
     "output_type": "execute_result"
    }
   ],
   "source": [
    "df = df[df['trial name'] == 'MAC-VIDEO_DOOR-PTHREAD-BOX_BLUR-ITER10']\n",
    "df"
   ]
  },
  {
   "cell_type": "code",
   "execution_count": 21,
   "metadata": {},
   "outputs": [],
   "source": [
    "mean = df.groupby([\"type\", \"cores\"]).mean().reset_index().sort_values(by=[\"type\", \"cores\"])\n",
    "std = df.groupby([\"type\", \"cores\"]).std().reset_index().sort_values(by=[\"type\", \"cores\"])"
   ]
  },
  {
   "cell_type": "code",
   "execution_count": 36,
   "metadata": {},
   "outputs": [],
   "source": [
    "mean = mean[mean[\"type\"] == \"par\"]\n"
   ]
  },
  {
   "cell_type": "code",
   "execution_count": 60,
   "metadata": {},
   "outputs": [
    {
     "data": {
      "text/html": [
       "<div>\n",
       "<style scoped>\n",
       "    .dataframe tbody tr th:only-of-type {\n",
       "        vertical-align: middle;\n",
       "    }\n",
       "\n",
       "    .dataframe tbody tr th {\n",
       "        vertical-align: top;\n",
       "    }\n",
       "\n",
       "    .dataframe thead th {\n",
       "        text-align: right;\n",
       "    }\n",
       "</style>\n",
       "<table border=\"1\" class=\"dataframe\">\n",
       "  <thead>\n",
       "    <tr style=\"text-align: right;\">\n",
       "      <th></th>\n",
       "      <th>type</th>\n",
       "      <th>cores</th>\n",
       "      <th>id</th>\n",
       "      <th>completion time</th>\n",
       "      <th>bandwidth</th>\n",
       "      <th>speedup</th>\n",
       "      <th>scalability</th>\n",
       "      <th>efficiency</th>\n",
       "    </tr>\n",
       "  </thead>\n",
       "  <tbody>\n",
       "    <tr>\n",
       "      <th>0</th>\n",
       "      <td>par</td>\n",
       "      <td>1</td>\n",
       "      <td>5.5</td>\n",
       "      <td>9717433.1</td>\n",
       "      <td>0.0</td>\n",
       "      <td>1.264</td>\n",
       "      <td>1.130</td>\n",
       "      <td>1.264</td>\n",
       "    </tr>\n",
       "    <tr>\n",
       "      <th>1</th>\n",
       "      <td>par</td>\n",
       "      <td>2</td>\n",
       "      <td>5.5</td>\n",
       "      <td>5173367.4</td>\n",
       "      <td>0.0</td>\n",
       "      <td>2.374</td>\n",
       "      <td>2.126</td>\n",
       "      <td>1.189</td>\n",
       "    </tr>\n",
       "    <tr>\n",
       "      <th>2</th>\n",
       "      <td>par</td>\n",
       "      <td>4</td>\n",
       "      <td>5.5</td>\n",
       "      <td>3158380.3</td>\n",
       "      <td>0.0</td>\n",
       "      <td>3.891</td>\n",
       "      <td>3.483</td>\n",
       "      <td>0.973</td>\n",
       "    </tr>\n",
       "    <tr>\n",
       "      <th>3</th>\n",
       "      <td>par</td>\n",
       "      <td>8</td>\n",
       "      <td>5.5</td>\n",
       "      <td>3012310.7</td>\n",
       "      <td>0.0</td>\n",
       "      <td>4.079</td>\n",
       "      <td>3.650</td>\n",
       "      <td>0.511</td>\n",
       "    </tr>\n",
       "  </tbody>\n",
       "</table>\n",
       "</div>"
      ],
      "text/plain": [
       "  type  cores   id  completion time  bandwidth  speedup  scalability  \\\n",
       "0  par      1  5.5        9717433.1        0.0    1.264        1.130   \n",
       "1  par      2  5.5        5173367.4        0.0    2.374        2.126   \n",
       "2  par      4  5.5        3158380.3        0.0    3.891        3.483   \n",
       "3  par      8  5.5        3012310.7        0.0    4.079        3.650   \n",
       "\n",
       "   efficiency  \n",
       "0       1.264  \n",
       "1       1.189  \n",
       "2       0.973  \n",
       "3       0.511  "
      ]
     },
     "execution_count": 60,
     "metadata": {},
     "output_type": "execute_result"
    }
   ],
   "source": [
    "mean"
   ]
  },
  {
   "cell_type": "code",
   "execution_count": null,
   "metadata": {},
   "outputs": [],
   "source": []
  },
  {
   "cell_type": "code",
   "execution_count": 59,
   "metadata": {},
   "outputs": [
    {
     "data": {
      "application/vnd.plotly.v1+json": {
       "config": {
        "plotlyServerURL": "https://plot.ly"
       },
       "data": [
        {
         "error_y": {
          "array": [
           0.0206559111797729,
           0.056411188803483205,
           0.10598217879540991,
           0.11278790321267224,
           0
          ],
          "type": "data",
          "visible": true
         },
         "line": {
          "color": "black"
         },
         "name": "Thread",
         "type": "scatter",
         "x": [
          1,
          2,
          4,
          8
         ],
         "y": [
          1.264,
          2.374,
          3.8909999999999996,
          4.079
         ]
        },
        {
         "name": "Ideal",
         "type": "scatter",
         "x": [
          1,
          2,
          4,
          8
         ],
         "y": [
          1,
          2,
          4,
          8
         ]
        }
       ],
       "layout": {
        "font": {
         "size": 12
        },
        "height": 600,
        "hovermode": "closest",
        "legend": {
         "title": {
          "text": "Legend"
         },
         "x": 0.5,
         "y": 1.1
        },
        "margin": {
         "b": 50,
         "l": 50,
         "r": 50,
         "t": 50
        },
        "plot_bgcolor": "rgb(248,248,248)",
        "template": {
         "data": {
          "bar": [
           {
            "error_x": {
             "color": "#2a3f5f"
            },
            "error_y": {
             "color": "#2a3f5f"
            },
            "marker": {
             "line": {
              "color": "#E5ECF6",
              "width": 0.5
             },
             "pattern": {
              "fillmode": "overlay",
              "size": 10,
              "solidity": 0.2
             }
            },
            "type": "bar"
           }
          ],
          "barpolar": [
           {
            "marker": {
             "line": {
              "color": "#E5ECF6",
              "width": 0.5
             },
             "pattern": {
              "fillmode": "overlay",
              "size": 10,
              "solidity": 0.2
             }
            },
            "type": "barpolar"
           }
          ],
          "carpet": [
           {
            "aaxis": {
             "endlinecolor": "#2a3f5f",
             "gridcolor": "white",
             "linecolor": "white",
             "minorgridcolor": "white",
             "startlinecolor": "#2a3f5f"
            },
            "baxis": {
             "endlinecolor": "#2a3f5f",
             "gridcolor": "white",
             "linecolor": "white",
             "minorgridcolor": "white",
             "startlinecolor": "#2a3f5f"
            },
            "type": "carpet"
           }
          ],
          "choropleth": [
           {
            "colorbar": {
             "outlinewidth": 0,
             "ticks": ""
            },
            "type": "choropleth"
           }
          ],
          "contour": [
           {
            "colorbar": {
             "outlinewidth": 0,
             "ticks": ""
            },
            "colorscale": [
             [
              0,
              "#0d0887"
             ],
             [
              0.1111111111111111,
              "#46039f"
             ],
             [
              0.2222222222222222,
              "#7201a8"
             ],
             [
              0.3333333333333333,
              "#9c179e"
             ],
             [
              0.4444444444444444,
              "#bd3786"
             ],
             [
              0.5555555555555556,
              "#d8576b"
             ],
             [
              0.6666666666666666,
              "#ed7953"
             ],
             [
              0.7777777777777778,
              "#fb9f3a"
             ],
             [
              0.8888888888888888,
              "#fdca26"
             ],
             [
              1,
              "#f0f921"
             ]
            ],
            "type": "contour"
           }
          ],
          "contourcarpet": [
           {
            "colorbar": {
             "outlinewidth": 0,
             "ticks": ""
            },
            "type": "contourcarpet"
           }
          ],
          "heatmap": [
           {
            "colorbar": {
             "outlinewidth": 0,
             "ticks": ""
            },
            "colorscale": [
             [
              0,
              "#0d0887"
             ],
             [
              0.1111111111111111,
              "#46039f"
             ],
             [
              0.2222222222222222,
              "#7201a8"
             ],
             [
              0.3333333333333333,
              "#9c179e"
             ],
             [
              0.4444444444444444,
              "#bd3786"
             ],
             [
              0.5555555555555556,
              "#d8576b"
             ],
             [
              0.6666666666666666,
              "#ed7953"
             ],
             [
              0.7777777777777778,
              "#fb9f3a"
             ],
             [
              0.8888888888888888,
              "#fdca26"
             ],
             [
              1,
              "#f0f921"
             ]
            ],
            "type": "heatmap"
           }
          ],
          "heatmapgl": [
           {
            "colorbar": {
             "outlinewidth": 0,
             "ticks": ""
            },
            "colorscale": [
             [
              0,
              "#0d0887"
             ],
             [
              0.1111111111111111,
              "#46039f"
             ],
             [
              0.2222222222222222,
              "#7201a8"
             ],
             [
              0.3333333333333333,
              "#9c179e"
             ],
             [
              0.4444444444444444,
              "#bd3786"
             ],
             [
              0.5555555555555556,
              "#d8576b"
             ],
             [
              0.6666666666666666,
              "#ed7953"
             ],
             [
              0.7777777777777778,
              "#fb9f3a"
             ],
             [
              0.8888888888888888,
              "#fdca26"
             ],
             [
              1,
              "#f0f921"
             ]
            ],
            "type": "heatmapgl"
           }
          ],
          "histogram": [
           {
            "marker": {
             "pattern": {
              "fillmode": "overlay",
              "size": 10,
              "solidity": 0.2
             }
            },
            "type": "histogram"
           }
          ],
          "histogram2d": [
           {
            "colorbar": {
             "outlinewidth": 0,
             "ticks": ""
            },
            "colorscale": [
             [
              0,
              "#0d0887"
             ],
             [
              0.1111111111111111,
              "#46039f"
             ],
             [
              0.2222222222222222,
              "#7201a8"
             ],
             [
              0.3333333333333333,
              "#9c179e"
             ],
             [
              0.4444444444444444,
              "#bd3786"
             ],
             [
              0.5555555555555556,
              "#d8576b"
             ],
             [
              0.6666666666666666,
              "#ed7953"
             ],
             [
              0.7777777777777778,
              "#fb9f3a"
             ],
             [
              0.8888888888888888,
              "#fdca26"
             ],
             [
              1,
              "#f0f921"
             ]
            ],
            "type": "histogram2d"
           }
          ],
          "histogram2dcontour": [
           {
            "colorbar": {
             "outlinewidth": 0,
             "ticks": ""
            },
            "colorscale": [
             [
              0,
              "#0d0887"
             ],
             [
              0.1111111111111111,
              "#46039f"
             ],
             [
              0.2222222222222222,
              "#7201a8"
             ],
             [
              0.3333333333333333,
              "#9c179e"
             ],
             [
              0.4444444444444444,
              "#bd3786"
             ],
             [
              0.5555555555555556,
              "#d8576b"
             ],
             [
              0.6666666666666666,
              "#ed7953"
             ],
             [
              0.7777777777777778,
              "#fb9f3a"
             ],
             [
              0.8888888888888888,
              "#fdca26"
             ],
             [
              1,
              "#f0f921"
             ]
            ],
            "type": "histogram2dcontour"
           }
          ],
          "mesh3d": [
           {
            "colorbar": {
             "outlinewidth": 0,
             "ticks": ""
            },
            "type": "mesh3d"
           }
          ],
          "parcoords": [
           {
            "line": {
             "colorbar": {
              "outlinewidth": 0,
              "ticks": ""
             }
            },
            "type": "parcoords"
           }
          ],
          "pie": [
           {
            "automargin": true,
            "type": "pie"
           }
          ],
          "scatter": [
           {
            "fillpattern": {
             "fillmode": "overlay",
             "size": 10,
             "solidity": 0.2
            },
            "type": "scatter"
           }
          ],
          "scatter3d": [
           {
            "line": {
             "colorbar": {
              "outlinewidth": 0,
              "ticks": ""
             }
            },
            "marker": {
             "colorbar": {
              "outlinewidth": 0,
              "ticks": ""
             }
            },
            "type": "scatter3d"
           }
          ],
          "scattercarpet": [
           {
            "marker": {
             "colorbar": {
              "outlinewidth": 0,
              "ticks": ""
             }
            },
            "type": "scattercarpet"
           }
          ],
          "scattergeo": [
           {
            "marker": {
             "colorbar": {
              "outlinewidth": 0,
              "ticks": ""
             }
            },
            "type": "scattergeo"
           }
          ],
          "scattergl": [
           {
            "marker": {
             "colorbar": {
              "outlinewidth": 0,
              "ticks": ""
             }
            },
            "type": "scattergl"
           }
          ],
          "scattermapbox": [
           {
            "marker": {
             "colorbar": {
              "outlinewidth": 0,
              "ticks": ""
             }
            },
            "type": "scattermapbox"
           }
          ],
          "scatterpolar": [
           {
            "marker": {
             "colorbar": {
              "outlinewidth": 0,
              "ticks": ""
             }
            },
            "type": "scatterpolar"
           }
          ],
          "scatterpolargl": [
           {
            "marker": {
             "colorbar": {
              "outlinewidth": 0,
              "ticks": ""
             }
            },
            "type": "scatterpolargl"
           }
          ],
          "scatterternary": [
           {
            "marker": {
             "colorbar": {
              "outlinewidth": 0,
              "ticks": ""
             }
            },
            "type": "scatterternary"
           }
          ],
          "surface": [
           {
            "colorbar": {
             "outlinewidth": 0,
             "ticks": ""
            },
            "colorscale": [
             [
              0,
              "#0d0887"
             ],
             [
              0.1111111111111111,
              "#46039f"
             ],
             [
              0.2222222222222222,
              "#7201a8"
             ],
             [
              0.3333333333333333,
              "#9c179e"
             ],
             [
              0.4444444444444444,
              "#bd3786"
             ],
             [
              0.5555555555555556,
              "#d8576b"
             ],
             [
              0.6666666666666666,
              "#ed7953"
             ],
             [
              0.7777777777777778,
              "#fb9f3a"
             ],
             [
              0.8888888888888888,
              "#fdca26"
             ],
             [
              1,
              "#f0f921"
             ]
            ],
            "type": "surface"
           }
          ],
          "table": [
           {
            "cells": {
             "fill": {
              "color": "#EBF0F8"
             },
             "line": {
              "color": "white"
             }
            },
            "header": {
             "fill": {
              "color": "#C8D4E3"
             },
             "line": {
              "color": "white"
             }
            },
            "type": "table"
           }
          ]
         },
         "layout": {
          "annotationdefaults": {
           "arrowcolor": "#2a3f5f",
           "arrowhead": 0,
           "arrowwidth": 1
          },
          "autotypenumbers": "strict",
          "coloraxis": {
           "colorbar": {
            "outlinewidth": 0,
            "ticks": ""
           }
          },
          "colorscale": {
           "diverging": [
            [
             0,
             "#8e0152"
            ],
            [
             0.1,
             "#c51b7d"
            ],
            [
             0.2,
             "#de77ae"
            ],
            [
             0.3,
             "#f1b6da"
            ],
            [
             0.4,
             "#fde0ef"
            ],
            [
             0.5,
             "#f7f7f7"
            ],
            [
             0.6,
             "#e6f5d0"
            ],
            [
             0.7,
             "#b8e186"
            ],
            [
             0.8,
             "#7fbc41"
            ],
            [
             0.9,
             "#4d9221"
            ],
            [
             1,
             "#276419"
            ]
           ],
           "sequential": [
            [
             0,
             "#0d0887"
            ],
            [
             0.1111111111111111,
             "#46039f"
            ],
            [
             0.2222222222222222,
             "#7201a8"
            ],
            [
             0.3333333333333333,
             "#9c179e"
            ],
            [
             0.4444444444444444,
             "#bd3786"
            ],
            [
             0.5555555555555556,
             "#d8576b"
            ],
            [
             0.6666666666666666,
             "#ed7953"
            ],
            [
             0.7777777777777778,
             "#fb9f3a"
            ],
            [
             0.8888888888888888,
             "#fdca26"
            ],
            [
             1,
             "#f0f921"
            ]
           ],
           "sequentialminus": [
            [
             0,
             "#0d0887"
            ],
            [
             0.1111111111111111,
             "#46039f"
            ],
            [
             0.2222222222222222,
             "#7201a8"
            ],
            [
             0.3333333333333333,
             "#9c179e"
            ],
            [
             0.4444444444444444,
             "#bd3786"
            ],
            [
             0.5555555555555556,
             "#d8576b"
            ],
            [
             0.6666666666666666,
             "#ed7953"
            ],
            [
             0.7777777777777778,
             "#fb9f3a"
            ],
            [
             0.8888888888888888,
             "#fdca26"
            ],
            [
             1,
             "#f0f921"
            ]
           ]
          },
          "colorway": [
           "#636efa",
           "#EF553B",
           "#00cc96",
           "#ab63fa",
           "#FFA15A",
           "#19d3f3",
           "#FF6692",
           "#B6E880",
           "#FF97FF",
           "#FECB52"
          ],
          "font": {
           "color": "#2a3f5f"
          },
          "geo": {
           "bgcolor": "white",
           "lakecolor": "white",
           "landcolor": "#E5ECF6",
           "showlakes": true,
           "showland": true,
           "subunitcolor": "white"
          },
          "hoverlabel": {
           "align": "left"
          },
          "hovermode": "closest",
          "mapbox": {
           "style": "light"
          },
          "paper_bgcolor": "white",
          "plot_bgcolor": "#E5ECF6",
          "polar": {
           "angularaxis": {
            "gridcolor": "white",
            "linecolor": "white",
            "ticks": ""
           },
           "bgcolor": "#E5ECF6",
           "radialaxis": {
            "gridcolor": "white",
            "linecolor": "white",
            "ticks": ""
           }
          },
          "scene": {
           "xaxis": {
            "backgroundcolor": "#E5ECF6",
            "gridcolor": "white",
            "gridwidth": 2,
            "linecolor": "white",
            "showbackground": true,
            "ticks": "",
            "zerolinecolor": "white"
           },
           "yaxis": {
            "backgroundcolor": "#E5ECF6",
            "gridcolor": "white",
            "gridwidth": 2,
            "linecolor": "white",
            "showbackground": true,
            "ticks": "",
            "zerolinecolor": "white"
           },
           "zaxis": {
            "backgroundcolor": "#E5ECF6",
            "gridcolor": "white",
            "gridwidth": 2,
            "linecolor": "white",
            "showbackground": true,
            "ticks": "",
            "zerolinecolor": "white"
           }
          },
          "shapedefaults": {
           "line": {
            "color": "#2a3f5f"
           }
          },
          "ternary": {
           "aaxis": {
            "gridcolor": "white",
            "linecolor": "white",
            "ticks": ""
           },
           "baxis": {
            "gridcolor": "white",
            "linecolor": "white",
            "ticks": ""
           },
           "bgcolor": "#E5ECF6",
           "caxis": {
            "gridcolor": "white",
            "linecolor": "white",
            "ticks": ""
           }
          },
          "title": {
           "x": 0.05
          },
          "xaxis": {
           "automargin": true,
           "gridcolor": "white",
           "linecolor": "white",
           "ticks": "",
           "title": {
            "standoff": 15
           },
           "zerolinecolor": "white",
           "zerolinewidth": 2
          },
          "yaxis": {
           "automargin": true,
           "gridcolor": "white",
           "linecolor": "white",
           "ticks": "",
           "title": {
            "standoff": 15
           },
           "zerolinecolor": "white",
           "zerolinewidth": 2
          }
         }
        },
        "title": {
         "text": "Speedup vs. Number of Threads"
        },
        "width": 800,
        "xaxis": {
         "title": {
          "text": "Number of Threads"
         }
        },
        "yaxis": {
         "title": {
          "text": "Speedup"
         }
        }
       }
      }
     },
     "metadata": {},
     "output_type": "display_data"
    }
   ],
   "source": [
    "import plotly.graph_objects as go\n",
    "\n",
    "# use different symbols for different traces\n",
    "fig = go.Figure()\n",
    "fig.add_trace(go.Scatter(x=mean[\"cores\"], y=mean[\"speedup\"], name=\"Thread\", error_y=dict(type=\"data\", array=std[\"speedup\"], visible=True), line=dict(color=\"black\")))\n",
    "fig.add_trace(go.Scatter(x=mean[\"cores\"], y=mean[\"cores\"], name=\"Ideal\"))\n",
    "# use different symbols for each trace with gray color\n",
    "fig.update_layout(\n",
    "    title=\"Speedup vs. Number of Threads\",\n",
    "    xaxis_title=\"Number of Threads\",\n",
    "    yaxis_title=\"Speedup\",\n",
    "    legend_title=\"Legend\",\n",
    "    legend=dict(x=0.5, y=1.1),\n",
    "    font=dict(size=12),\n",
    "    width=800,\n",
    "    height=600,\n",
    "    margin=dict(l=50, r=50, t=50, b=50),\n",
    "    hovermode='closest',\n",
    "    plot_bgcolor='rgb(248,248,248)'\n",
    ")\n",
    "\n",
    "\n",
    "\n",
    "fig.show()"
   ]
  },
  {
   "cell_type": "code",
   "execution_count": null,
   "metadata": {},
   "outputs": [],
   "source": []
  }
 ],
 "metadata": {
  "interpreter": {
   "hash": "72e57dc3dad5fe81ea9c8b88656e5a9681a3c8cfe182a47c201592651a720938"
  },
  "kernelspec": {
   "display_name": "Python 3.9.12 ('.venv': venv)",
   "language": "python",
   "name": "python3"
  },
  "language_info": {
   "codemirror_mode": {
    "name": "ipython",
    "version": 3
   },
   "file_extension": ".py",
   "mimetype": "text/x-python",
   "name": "python",
   "nbconvert_exporter": "python",
   "pygments_lexer": "ipython3",
   "version": "3.9.12"
  },
  "orig_nbformat": 4
 },
 "nbformat": 4,
 "nbformat_minor": 2
}
