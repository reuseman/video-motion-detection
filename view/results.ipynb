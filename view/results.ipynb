{
 "cells": [
  {
   "cell_type": "code",
   "execution_count": null,
   "metadata": {},
   "outputs": [],
   "source": [
    "import numpy as np\n",
    "import pandas as pd\n",
    "import plotly.graph_objects as go\n",
    "import plotly.express as px\n",
    "\n",
    "# colorblind friendly colorscheme https://davidmathlogic.com/colorblind/#%23648FFF-%23785EF0-%23DC267F-%23FE6100-%23FFB000\n",
    "colorscheme = ['#648FFF', '#785EF0', '#DC267F', '#FE6100', '#FFB000'] # px.colors.sequential.Viridis[::3]\n",
    "symbols = ['circle', 'square', 'x', 'diamond', 'triangle-up']\n",
    "\n",
    "df = pd.read_csv('./build/results.csv')\n",
    "df.head()"
   ]
  },
  {
   "cell_type": "markdown",
   "metadata": {},
   "source": [
    "|       \t| READ FRAME \t| DEQUE \t| GREY \t| DETECT MOTION \t|\n",
    "|:-----:\t|:----------:\t|:-----:\t|:----:\t|:-------------:\t|\n",
    "| 1080P \t|    9285    \t|   1   \t| 3758 \t|      864      \t|\n",
    "|  720  \t|    6010    \t|   1   \t| 1564 \t|      308      \t|\n",
    "            \n",
    "<br>\n",
    "\n",
    "|       \t| OPENCV_BLUR \t| BOX_BLUR \t|   H1   \t| H2/3/4 \t|   H1_7  \t|\n",
    "|:-----:\t|:-----------:\t|:--------:\t|:------:\t|:------:\t|:-------:\t|\n",
    "| 1080P \t|     3846    \t|   15128  \t| 470467 \t| 822913 \t| 1520998 \t|\n",
    "|  720  \t|     1888    \t|   6281   \t| 195519 \t| 335527 \t|  640675 \t|"
   ]
  },
  {
   "cell_type": "code",
   "execution_count": null,
   "metadata": {},
   "outputs": [],
   "source": [
    "estimated_1080 = 9285 + 1 + 3758 + 864\n",
    "estimated_720 = 6010 + 1 + 1564 + 308\n",
    "\n",
    "# Input\n",
    "blur_time = 335527\n",
    "estimated_service_time = estimated_720 + blur_time\n",
    "\n",
    "# df = df[df['trial name'] == 'door_short-grey-h1-3iter-stream'] 9.95 speedup, 21.820 service time\n",
    "# df = df[df['trial name'] == 'door_short-grey-h1-3iter-data']     10.72 speedup, 18 service time\n",
    "# df = df[df['trial name'] == 'door_short-grey-h2-3iter-stream']  9.89 speedup, 35\n",
    "# df = df[df['trial name'] == 'door_short-grey-h3-3iter-stream'] 10.22, 34\n",
    "# df = df[df['trial name'] == 'door_short-grey-h4-3iter-stream'] 9.83, 35\n",
    "# df = df[df['trial name'] == 'door_short-grey-h1_7-3iter-stream'] 11.06, 55\n",
    "# df = df[df['trial name'] == 'door_short-grey-opencv_blur-3iter-stream'] 1.31, 6\n",
    "# df = df[df['trial name'] == 'door_short-grey-box_blur-3iter-stream'] 2.07, 6500\n",
    "\n",
    "# df = df[df['trial name'] == 'house720-grey-h1-3iter-stream']   # 15 speedup, 13.50 service time\n",
    "# df = df[df['trial name'] == 'house720-grey-h1-3iter-data']   # 16.43 speedup, 12.19 service time\n",
    "# df = df[df['trial name'] == 'house720-grey-h1_7-3iter-stream']   # 16.56 speedup, 36.85 service time\n",
    "# df = df[df['trial name'] == 'house720-grey-h3-3iter-stream']   # 15.68 speedup, 22.58 service time\n",
    "# df = df[df['trial name'] == 'house720-grey-h4-3iter-stream'] \n",
    "# df = df[df['trial name'] == 'house720-grey-opencv_blur-3iter-stream']   # 1.39 speedup, 5 service time\n",
    "# df = df[df['trial name'] == 'house720-grey-opencv_blur-3iter-stream']   # 2.2 speedup, 5.2 service time\n",
    "\n",
    "# df = df[df['trial name'] == 'door1080-grey-h1-3iter-stream']   # 21.88 speedup, 21.96k service time\n",
    "df = df[df['trial name'] == 'house720-greyh1r-1iter-stream-omp']"
   ]
  },
  {
   "cell_type": "code",
   "execution_count": null,
   "metadata": {},
   "outputs": [],
   "source": [
    "mean = df.groupby([\"type\", \"threads\"]).mean().reset_index().sort_values(by=[\"type\", \"threads\"])\n",
    "std = df.groupby([\"type\", \"threads\"]).std().reset_index().sort_values(by=[\"type\", \"threads\"])\n",
    "\n",
    "means = {name:d for name, d in mean.groupby([\"type\"])}\n",
    "std = {name:d for name, d in std.groupby([\"type\"])}\n",
    "types = means.keys()\n",
    "threads = pd.unique(mean[\"threads\"]).tolist()\n",
    "\n",
    "def get_fig(y, title, xtitle, ytitle, log_x=True, log_y=True):\n",
    "    types = means.keys()\n",
    "    threads = pd.unique(mean[\"threads\"]).tolist()\n",
    "    items = means[\"seq\"][\"items\"]\n",
    "\n",
    "    fig = go.Figure()\n",
    "\n",
    "    for type in types:\n",
    "        if type == \"seq\":\n",
    "            continue\n",
    "        fig.add_trace(go.Scatter(x=threads, y=means[type][y], name=type, error_y=dict(type=\"data\", array=std[type][y])))\n",
    "\n",
    "     # Add ideal metric\n",
    "    if y == \"completion time\":\n",
    "        seq_completion_time = means[\"seq\"][\"completion time\"].iloc[0]\n",
    "        ideal_completion_time = [seq_completion_time / thread for thread in threads]\n",
    "        fig.add_trace(go.Scatter(x=threads, y=ideal_completion_time, name=\"ideal\", line=dict(dash=\"dash\")))\n",
    "\n",
    "        estimated = [estimated_service_time * items / thread for thread in threads]\n",
    "        fig.add_trace(go.Scatter(x=threads, y=estimated, name=\"lower bound\", line=dict(dash=\"dash\")))\n",
    "    elif y == \"service time\":\n",
    "        seq_service_time = means[\"seq\"][\"service time\"].iloc[0]\n",
    "        ideal_service_time = [seq_service_time / thread for thread in threads]\n",
    "        fig.add_trace(go.Scatter(x=threads, y=ideal_service_time, name=\"ideal\", line=dict(dash=\"dash\")))\n",
    "\n",
    "        estimated = [estimated_service_time / thread for thread in threads]\n",
    "        fig.add_trace(go.Scatter(x=threads, y=estimated, name=\"lower bound\", line=dict(dash=\"dash\")))\n",
    "    elif y == \"efficiency\":\n",
    "        ones = pd.Series(np.ones(len(threads)))\n",
    "        fig.add_trace(go.Scatter(x=threads, y=ones, name=\"ideal\", line=dict(dash=\"dash\")))\n",
    "    else:\n",
    "        fig.add_trace(go.Scatter(x=threads, y=threads, name=\"ideal\", line=dict(dash=\"dash\")))\n",
    "\n",
    "    for i, trace in enumerate(fig.data):\n",
    "        # use different symbol and color for each trace\n",
    "        trace.marker.symbol = symbols[i]\n",
    "        trace.marker.size = 10\n",
    "        trace.line.color = colorscheme[i]\n",
    "        # trace.line.color = \"black\"\n",
    "\n",
    "    fig.update_layout(\n",
    "        title=title,\n",
    "        xaxis_title=xtitle,\n",
    "        yaxis_title=ytitle,\n",
    "        xaxis = dict(\n",
    "            tickmode = 'array',\n",
    "            tickvals = threads,\n",
    "        ),\n",
    "    )\n",
    "\n",
    "    if log_x:\n",
    "        fig.update_xaxes(type=\"log\")\n",
    "\n",
    "    if log_y:\n",
    "        fig.update_yaxes(type=\"log\")\n",
    "\n",
    "    return fig"
   ]
  },
  {
   "cell_type": "code",
   "execution_count": null,
   "metadata": {},
   "outputs": [],
   "source": [
    "get_fig(y=\"speedup\", title=\"Speedup vs. Number of threads\", xtitle=\"# Threads\", ytitle=\"Speedup\")"
   ]
  },
  {
   "cell_type": "code",
   "execution_count": null,
   "metadata": {},
   "outputs": [],
   "source": [
    "get_fig(y=\"service time\", title=\"Service time vs Number of threads\", xtitle=\"# Threads\", ytitle=\"Time (µs)\")"
   ]
  },
  {
   "cell_type": "code",
   "execution_count": null,
   "metadata": {},
   "outputs": [],
   "source": [
    "get_fig(y=\"completion time\", title=\"Completion time vs Number of threads\", xtitle=\"# Threads\", ytitle=\"Time (µs)\")"
   ]
  },
  {
   "cell_type": "code",
   "execution_count": null,
   "metadata": {},
   "outputs": [],
   "source": [
    "get_fig(y=\"scalability\", title=\"Scalability vs. Number of threads\", xtitle=\"# Threads\", ytitle=\"Scalability\")"
   ]
  },
  {
   "cell_type": "code",
   "execution_count": null,
   "metadata": {},
   "outputs": [],
   "source": [
    "get_fig(y=\"efficiency\", title=\"Efficiency vs. Number of threads\", xtitle=\"# Threads\", ytitle=\"Efficiency\")"
   ]
  }
 ],
 "metadata": {
  "interpreter": {
   "hash": "866d9cf01d83017b74f5dd6692cbfb70cb3907ad00119e43e1d15beab52499a8"
  },
  "kernelspec": {
   "display_name": "Python 3.8.10 ('.venv': venv)",
   "language": "python",
   "name": "python3"
  },
  "language_info": {
   "codemirror_mode": {
    "name": "ipython",
    "version": 3
   },
   "file_extension": ".py",
   "mimetype": "text/x-python",
   "name": "python",
   "nbconvert_exporter": "python",
   "pygments_lexer": "ipython3",
   "version": "3.8.10"
  },
  "orig_nbformat": 4
 },
 "nbformat": 4,
 "nbformat_minor": 2
}
