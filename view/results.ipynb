{
 "cells": [
  {
   "cell_type": "markdown",
   "metadata": {},
   "source": [
    "# Results visualization"
   ]
  },
  {
   "cell_type": "code",
   "execution_count": null,
   "metadata": {},
   "outputs": [],
   "source": [
    "# INPUT \n",
    "results_path = '../build/results2.csv'\n",
    "trial_name = \"door1080-h1-3iter-stream\" # insert here the trial name\n",
    "\n",
    "## Just used for Amdahl's law plot\n",
    "resolution = 720 # insert here the resolution of the video, 1080 or 720"
   ]
  },
  {
   "cell_type": "code",
   "execution_count": null,
   "metadata": {},
   "outputs": [],
   "source": [
    "import numpy as np\n",
    "import pandas as pd\n",
    "import plotly.graph_objects as go\n",
    "import functools\n",
    "\n",
    "# Colorblind friendly colorscheme https://davidmathlogic.com/colorblind/#%23648FFF-%23785EF0-%23DC267F-%23FE6100-%23FFB000\n",
    "colorscheme = ['#648FFF', '#785EF0', '#DC267F', '#FE6100', '#FFB000'] # px.colors.sequential.Viridis[::3] - import plotly.express as px\n",
    "symbols = ['circle', 'square', 'x', 'diamond', 'triangle-up']\n",
    "\n",
    "df = pd.read_csv(results_path)\n",
    "df.head()"
   ]
  },
  {
   "cell_type": "code",
   "execution_count": null,
   "metadata": {},
   "outputs": [],
   "source": [
    "assert trial_name in df[\"trial name\"].unique(), \"Trial name not found in results.csv\""
   ]
  },
  {
   "cell_type": "markdown",
   "metadata": {},
   "source": [
    "## Execution times\n",
    "Execution time in microseconds for each single function obtained with the execution of src/meter.cpp\n",
    "\n",
    "|       \t| READ FRAME \t| DEQUE \t| GREY \t| DETECT MOTION \t|\n",
    "|:-----:\t|:----------:\t|:-----:\t|:----:\t|:-------------:\t|\n",
    "| 1080P \t|    9285    \t|   1   \t| 3758 \t|      864      \t|\n",
    "|  720  \t|    6010    \t|   1   \t| 1564 \t|      308      \t|\n",
    "            \n",
    "<br>\n",
    "\n",
    "|       \t| OPENCV_BLUR \t| BOX_BLUR \t|   H1   \t| H2/3/4 \t|   H1_7  \t|\n",
    "|:-----:\t|:-----------:\t|:--------:\t|:------:\t|:------:\t|:-------:\t|\n",
    "| 1080P \t|     3846    \t|   15128  \t| 470467 \t| 822913 \t| 1520998 \t|\n",
    "|  720  \t|     1888    \t|   6281   \t| 195519 \t| 335527 \t|  640675 \t|"
   ]
  },
  {
   "cell_type": "code",
   "execution_count": null,
   "metadata": {},
   "outputs": [],
   "source": [
    "# Parameters measured with meter.cpp\n",
    "execution_times = {\n",
    "    720: {\"blur_time\" : {\"OPEN_CV\":1888, \"BOX_BLUR\": 6281, \"H1\":195519, \"H2-H3-H4\":335527, \"H1_7\":640675}, \"serial_time\": 6010, \"service_time_without_blur\": 1564 + 308},\n",
    "    1080: {\"blur_time\" : {\"OPEN_CV\":3846, \"BOX_BLUR\": 15128, \"H1\":470467, \"H2-H3-H4\":822913, \"H1_7\":1520998}, \"serial_time\": 9285, \"service_time_without_blur\": 3758 + 864}\n",
    "}\n",
    "\n",
    "df = df[df['trial name'] == trial_name]"
   ]
  },
  {
   "cell_type": "code",
   "execution_count": null,
   "metadata": {},
   "outputs": [],
   "source": [
    "mean = df.groupby([\"type\", \"threads\"]).mean().reset_index().sort_values(by=[\"type\", \"threads\"])\n",
    "std = df.groupby([\"type\", \"threads\"]).std().reset_index().sort_values(by=[\"type\", \"threads\"])\n",
    "\n",
    "means = {name:d for name, d in mean.groupby([\"type\"])}\n",
    "\n",
    "def compare(x, y):\n",
    "    if x == \"omp\": return 1\n",
    "    elif y == \"omp\": return -1\n",
    "    else: return x < y\n",
    "\n",
    "std = {name:d for name, d in std.groupby([\"type\"])}\n",
    "types = sorted(means.keys(), key=functools.cmp_to_key(compare)) # sort by type, but \"omp\" in the last position (because only sometimes it is used)\n",
    "threads = pd.unique(mean[\"threads\"]).tolist()"
   ]
  },
  {
   "cell_type": "code",
   "execution_count": null,
   "metadata": {},
   "outputs": [],
   "source": [
    "def plot_amdahl_speedup(width=800, height=400):\n",
    "    def get_amdahl_speedup(n, serial_fraction, service_time):\n",
    "        return service_time / (serial_fraction * service_time + (1 - serial_fraction) * service_time / n)\n",
    "\n",
    "    fig = go.Figure()\n",
    "    for blur_name, blur_us in execution_times[resolution][\"blur_time\"].items():\n",
    "        temp_service_time = execution_times[resolution][\"service_time_without_blur\"] + blur_us\n",
    "        serial_fraction = execution_times[resolution][\"serial_time\"] / temp_service_time\n",
    "        speedup = [get_amdahl_speedup(thread_number, serial_fraction, temp_service_time) for thread_number in threads]\n",
    "        limit = temp_service_time / (serial_fraction * temp_service_time)\n",
    "        fig.add_trace(go.Scatter(x=threads, y=speedup, name=blur_name, mode='lines+markers'))\n",
    "\n",
    "    for i, trace in enumerate(fig.data):\n",
    "        # use different symbol and color for each trace\n",
    "        trace.marker.symbol = symbols[i]\n",
    "        trace.marker.size = 10\n",
    "        trace.line.color = colorscheme[i]\n",
    "        # trace.line.color = \"black\"\n",
    "\n",
    "    fig.update_layout(\n",
    "        width=width,\n",
    "        height=height,\n",
    "        title=\"Amdahl's Speedup\",\n",
    "        xaxis_title=\"# Threads\",\n",
    "        yaxis_title=\"Speedup upperbound\",\n",
    "        xaxis = dict(\n",
    "            tickmode = 'array',\n",
    "            tickvals = df['threads'].unique(),\n",
    "        ),\n",
    "        legend=dict(\n",
    "            title=\"Blur algorithm\",\n",
    "            orientation=\"h\",\n",
    "            yanchor=\"bottom\",\n",
    "            y=1.02,\n",
    "            xanchor=\"right\",\n",
    "            x=1\n",
    "        ),\n",
    "        margin=go.layout.Margin(\n",
    "            l=0, #left margin\n",
    "            r=0, #right margin\n",
    "            b=0, #bottom margin\n",
    "            t=0  #top margin\n",
    "        ),\n",
    "    )\n",
    "    # LOG \n",
    "    fig.update_xaxes(type=\"log\")\n",
    "    fig.show()"
   ]
  },
  {
   "cell_type": "code",
   "execution_count": null,
   "metadata": {},
   "outputs": [],
   "source": [
    "def plot_metrics(y, title, xtitle, ytitle, log_x=True, log_y=True, width=800, height=400):\n",
    "    items = means[\"seq\"][\"items\"]\n",
    "    fig = go.Figure()\n",
    "\n",
    "     # Add ideal metric\n",
    "    if y == \"completion time\":\n",
    "        seq_completion_time = means[\"seq\"][\"completion time\"].iloc[0]\n",
    "        ideal_completion_time = [seq_completion_time / thread for thread in threads]\n",
    "        fig.add_trace(go.Scatter(x=threads, y=ideal_completion_time, name=\"ideal\", line=dict(dash=\"dash\")))\n",
    "\n",
    "        # estimated = [estimated_service_time * items / thread for thread in threads]\n",
    "        # fig.add_trace(go.Scatter(x=threads, y=estimated, name=\"lower bound\", line=dict(dash=\"dash\")))\n",
    "    elif y == \"service time\":\n",
    "        seq_service_time = means[\"seq\"][\"service time\"].iloc[0]\n",
    "        ideal_service_time = [seq_service_time / thread for thread in threads]\n",
    "        fig.add_trace(go.Scatter(x=threads, y=ideal_service_time, name=\"ideal\", line=dict(dash=\"dash\")))\n",
    "\n",
    "        # estimated = [estimated_service_time / thread for thread in threads]\n",
    "        # fig.add_trace(go.Scatter(x=threads, y=estimated, name=\"lower bound\", line=dict(dash=\"dash\")))\n",
    "    elif y == \"efficiency\":\n",
    "        ones = pd.Series(np.ones(len(threads)))\n",
    "        fig.add_trace(go.Scatter(x=threads, y=ones, name=\"ideal\", line=dict(dash=\"dash\")))\n",
    "    else:\n",
    "        fig.add_trace(go.Scatter(x=threads, y=threads, name=\"ideal\", line=dict(dash=\"dash\")))\n",
    "\n",
    "    # Add the actual metric\n",
    "    for type in types:\n",
    "        if type == \"seq\":\n",
    "            continue\n",
    "        fig.add_trace(go.Scatter(x=threads, y=means[type][y], name=type, error_y=dict(type=\"data\", array=std[type][y], visible=True)))\n",
    "\n",
    "    # Use different symbol and color for each trace\n",
    "    for i, trace in enumerate(fig.data):\n",
    "        trace.marker.symbol = symbols[i]\n",
    "        trace.marker.size = 8\n",
    "        trace.line.color = colorscheme[i]\n",
    "\n",
    "    # Update layout\n",
    "    fig.update_layout(\n",
    "        width=width,\n",
    "        height=height,\n",
    "        title=title,\n",
    "        xaxis_title=xtitle,\n",
    "        yaxis_title=ytitle,\n",
    "        xaxis = dict(\n",
    "            tickmode = 'array',\n",
    "            tickvals = threads,\n",
    "        ),\n",
    "        legend=dict(\n",
    "            title=\"Parallel implementation\",\n",
    "            orientation=\"h\",\n",
    "            yanchor=\"bottom\",\n",
    "            y=1.02,\n",
    "            xanchor=\"right\",\n",
    "            x=1\n",
    "        ),\n",
    "        margin=go.layout.Margin(\n",
    "            l=0, #left margin\n",
    "            r=0, #right margin\n",
    "            b=0, #bottom margin\n",
    "            t=0  #top margin\n",
    "        ),\n",
    "    )\n",
    "\n",
    "    # Log scale\n",
    "    if log_x:\n",
    "        fig.update_xaxes(type=\"log\")\n",
    "\n",
    "    if log_y:\n",
    "        fig.update_yaxes(type=\"log\")\n",
    "\n",
    "    fig.show()"
   ]
  },
  {
   "cell_type": "markdown",
   "metadata": {},
   "source": [
    "## Amdahl's speedup"
   ]
  },
  {
   "cell_type": "code",
   "execution_count": null,
   "metadata": {},
   "outputs": [],
   "source": [
    "plot_amdahl_speedup()\n",
    "# 76, 46, 29, 2.34, 1.62 for 720p\n",
    "# 100, 66, 43, 3.10, 1.9 for 1080p"
   ]
  },
  {
   "cell_type": "markdown",
   "metadata": {},
   "source": [
    "## Metrics"
   ]
  },
  {
   "cell_type": "code",
   "execution_count": null,
   "metadata": {},
   "outputs": [],
   "source": [
    "plot_metrics(y=\"speedup\", title=\"Speedup vs. Number of threads\", xtitle=\"# Threads\", ytitle=\"Speedup\")"
   ]
  },
  {
   "cell_type": "code",
   "execution_count": null,
   "metadata": {},
   "outputs": [],
   "source": [
    "plot_metrics(y=\"service time\", title=\"Service time vs Number of threads\", xtitle=\"# Threads\", ytitle=\"Service Time (µs)\")"
   ]
  },
  {
   "cell_type": "code",
   "execution_count": null,
   "metadata": {},
   "outputs": [],
   "source": [
    "plot_metrics(y=\"completion time\", title=\"\", xtitle=\"# Threads\", ytitle=\"Completion Time (µs)\")"
   ]
  },
  {
   "cell_type": "code",
   "execution_count": null,
   "metadata": {},
   "outputs": [],
   "source": [
    "plot_metrics(y=\"scalability\", title=\"Scalability vs. Number of threads\", xtitle=\"# Threads\", ytitle=\"Scalability\")"
   ]
  },
  {
   "cell_type": "code",
   "execution_count": null,
   "metadata": {},
   "outputs": [],
   "source": [
    "plot_metrics(y=\"efficiency\", title=\"Efficiency vs. Number of threads\", xtitle=\"# Threads\", ytitle=\"Efficiency\")"
   ]
  }
 ],
 "metadata": {
  "interpreter": {
   "hash": "866d9cf01d83017b74f5dd6692cbfb70cb3907ad00119e43e1d15beab52499a8"
  },
  "kernelspec": {
   "display_name": "Python 3.8.10 ('.venv': venv)",
   "language": "python",
   "name": "python3"
  },
  "language_info": {
   "codemirror_mode": {
    "name": "ipython",
    "version": 3
   },
   "file_extension": ".py",
   "mimetype": "text/x-python",
   "name": "python",
   "nbconvert_exporter": "python",
   "pygments_lexer": "ipython3",
   "version": "3.8.10"
  },
  "orig_nbformat": 4
 },
 "nbformat": 4,
 "nbformat_minor": 2
}
